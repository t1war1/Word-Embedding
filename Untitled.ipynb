{
 "cells": [
  {
   "cell_type": "code",
   "execution_count": 10,
   "metadata": {},
   "outputs": [],
   "source": [
    "#list of libraries used by the code\n",
    "import string\n",
    "from gensim.models import Word2Vec\n",
    "import logging\n",
    "from nltk.corpus import stopwords\n",
    "from textblob import Word\n",
    "import json\n",
    "import pandas as pd\n",
    "#data in json format\n",
    "json_file = 'intents.json'\n",
    "with open('intents.json','r') as f:\n",
    "    data = json.load(f)\n",
    "#displaying the list of stopwords\n",
    "stop = stopwords.words('english')\n",
    "#dataframe\n",
    "df = pd.DataFrame(data)"
   ]
  },
  {
   "cell_type": "code",
   "execution_count": 11,
   "metadata": {},
   "outputs": [
    {
     "name": "stdout",
     "output_type": "stream",
     "text": [
      "                                            patterns  \\\n",
      "0  Hi, How are you, Is any one to talk?, Hello, h...   \n",
      "1  Bye, See you later, Goodbye, I will come back ...   \n",
      "2  Thanks for helping me, Thank your guidance, Th...   \n",
      "3  What hours are you open?, Tell your opening ti...   \n",
      "4  Can I pay using credit card?,  Can I pay using...   \n",
      "\n",
      "                                           responses           tag  \n",
      "0  [Hello, thanks for contacting us, Good to see ...       welcome  \n",
      "1  [See you later, thanks for visiting, have a gr...       goodbye  \n",
      "2  [Happy to help!, Any time!, My pleasure, It is...      thankful  \n",
      "3  [We're open every day 8am-7pm, Our office hour...  hoursopening  \n",
      "4  [We accept VISA, Mastercard and credit card, W...      payments  \n"
     ]
    }
   ],
   "source": [
    "df['patterns'] = df['patterns'].apply(', '.join)\n",
    "# print(df['patterns'])\n",
    "#print(df['patterns'])\n",
    "#cleaning the data using the NLP approach\n",
    "print(df)\n",
    "df['patterns'] = df['patterns'].apply(lambda x:' '.join(x.lower() for x in x.split()))\n",
    "df['patterns']= df['patterns'].apply(lambda x: ' '.join(x for x in x.split() if x not in string.punctuation))\n",
    "df['patterns']= df['patterns'].str.replace('[^\\w\\s]','')\n",
    "df['patterns']= df['patterns'].apply(lambda x: ' '.join(x for x in x.split() if  not x.isdigit()))\n",
    "df['patterns'] = df['patterns'].apply(lambda x:' '.join(x for x in x.split() if not x in stop))\n",
    "df['patterns'] = df['patterns'].apply(lambda x: \" \".join([Word(word).lemmatize() for word in x.split()]))"
   ]
  },
  {
   "cell_type": "code",
   "execution_count": 12,
   "metadata": {},
   "outputs": [],
   "source": [
    "df['patterns'] = df['patterns'].apply(lambda x:' '.join(x.lower() for x in x.split()))\n",
    "df['patterns']= df['patterns'].apply(lambda x: ' '.join(x for x in x.split() if x not in string.punctuation))\n",
    "df['patterns']= df['patterns'].str.replace('[^\\w\\s]','')\n",
    "df['patterns']= df['patterns'].apply(lambda x: ' '.join(x for x in x.split() if  not x.isdigit()))\n",
    "df['patterns'] = df['patterns'].apply(lambda x:' '.join(x for x in x.split() if not x in stop))\n",
    "df['patterns'] = df['patterns'].apply(lambda x: \" \".join([Word(word).lemmatize() for word in x.split()]))"
   ]
  },
  {
   "cell_type": "code",
   "execution_count": 15,
   "metadata": {},
   "outputs": [],
   "source": [
    "Bigger_list=[]\n",
    "for i in df['patterns']:\n",
    "     li = list(i.split(\" \"))\n",
    "     Bigger_list.append(li)\t\n",
    "Model= Word2Vec(Bigger_list,min_count=1,size=300,workers=4)"
   ]
  },
  {
   "cell_type": "code",
   "execution_count": 16,
   "metadata": {},
   "outputs": [
    {
     "data": {
      "text/plain": [
       "[['hi', 'one', 'talk', 'hello', 'hi', 'available'],\n",
       " ['bye', 'see', 'later', 'goodbye', 'come', 'back', 'soon'],\n",
       " ['thanks', 'helping', 'thank', 'guidance', 'thats', 'helpful', 'kind'],\n",
       " ['hour', 'open', 'tell', 'opening', 'time', 'open', 'timing', 'please'],\n",
       " ['pay',\n",
       "  'using',\n",
       "  'credit',\n",
       "  'card',\n",
       "  'pay',\n",
       "  'using',\n",
       "  'mastercard',\n",
       "  'pay',\n",
       "  'using',\n",
       "  'cash']]"
      ]
     },
     "execution_count": 16,
     "metadata": {},
     "output_type": "execute_result"
    }
   ],
   "source": [
    "Bigger_list"
   ]
  },
  {
   "cell_type": "code",
   "execution_count": 17,
   "metadata": {},
   "outputs": [
    {
     "data": {
      "text/plain": [
       "<gensim.models.word2vec.Word2Vec at 0x1e9d2640a58>"
      ]
     },
     "execution_count": 17,
     "metadata": {},
     "output_type": "execute_result"
    }
   ],
   "source": [
    "Model"
   ]
  },
  {
   "cell_type": "code",
   "execution_count": 19,
   "metadata": {},
   "outputs": [],
   "source": [
    "Model.save(\"word2vec.model\")\n",
    "Model.save(\"model.bin\")"
   ]
  },
  {
   "cell_type": "code",
   "execution_count": 20,
   "metadata": {},
   "outputs": [],
   "source": [
    "model = Word2Vec.load('model.bin')"
   ]
  },
  {
   "cell_type": "code",
   "execution_count": 21,
   "metadata": {},
   "outputs": [],
   "source": [
    " vocab = list(model.wv.vocab)"
   ]
  },
  {
   "cell_type": "code",
   "execution_count": 22,
   "metadata": {},
   "outputs": [
    {
     "data": {
      "text/plain": [
       "['hi',\n",
       " 'one',\n",
       " 'talk',\n",
       " 'hello',\n",
       " 'available',\n",
       " 'bye',\n",
       " 'see',\n",
       " 'later',\n",
       " 'goodbye',\n",
       " 'come',\n",
       " 'back',\n",
       " 'soon',\n",
       " 'thanks',\n",
       " 'helping',\n",
       " 'thank',\n",
       " 'guidance',\n",
       " 'thats',\n",
       " 'helpful',\n",
       " 'kind',\n",
       " 'hour',\n",
       " 'open',\n",
       " 'tell',\n",
       " 'opening',\n",
       " 'time',\n",
       " 'timing',\n",
       " 'please',\n",
       " 'pay',\n",
       " 'using',\n",
       " 'credit',\n",
       " 'card',\n",
       " 'mastercard',\n",
       " 'cash']"
      ]
     },
     "execution_count": 22,
     "metadata": {},
     "output_type": "execute_result"
    }
   ],
   "source": [
    "vocab"
   ]
  },
  {
   "cell_type": "code",
   "execution_count": 23,
   "metadata": {},
   "outputs": [
    {
     "name": "stdout",
     "output_type": "stream",
     "text": [
      "[('time', 0.14604277908802032), ('helpful', 0.11787943542003632), ('come', 0.09656795114278793), ('back', 0.0944022387266159), ('please', 0.0916094034910202), ('using', 0.0560147762298584), ('guidance', 0.05047699809074402), ('hello', 0.05022896081209183), ('bye', 0.044212017208337784), ('soon', 0.04411093145608902)]\n"
     ]
    },
    {
     "name": "stderr",
     "output_type": "stream",
     "text": [
      "C:\\Users\\gauravtiwari\\AppData\\Local\\Continuum\\anaconda3\\lib\\site-packages\\ipykernel_launcher.py:1: DeprecationWarning: Call to deprecated `most_similar` (Method will be removed in 4.0.0, use self.wv.most_similar() instead).\n",
      "  \"\"\"Entry point for launching an IPython kernel.\n"
     ]
    }
   ],
   "source": [
    "similar_words = model.most_similar('thanks')\t\n",
    "print(similar_words)\t"
   ]
  },
  {
   "cell_type": "code",
   "execution_count": null,
   "metadata": {},
   "outputs": [],
   "source": []
  }
 ],
 "metadata": {
  "kernelspec": {
   "display_name": "Python 3",
   "language": "python",
   "name": "python3"
  },
  "language_info": {
   "codemirror_mode": {
    "name": "ipython",
    "version": 3
   },
   "file_extension": ".py",
   "mimetype": "text/x-python",
   "name": "python",
   "nbconvert_exporter": "python",
   "pygments_lexer": "ipython3",
   "version": "3.7.3"
  }
 },
 "nbformat": 4,
 "nbformat_minor": 2
}
