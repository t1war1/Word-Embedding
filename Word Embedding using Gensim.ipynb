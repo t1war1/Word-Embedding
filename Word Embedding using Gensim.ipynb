{
 "cells": [
  {
   "cell_type": "code",
   "execution_count": 6,
   "metadata": {},
   "outputs": [],
   "source": [
    "import nltk\n",
    "import gensim\n",
    "from gensim.parsing.preprocessing import STOPWORDS\n",
    "from gensim.models import Word2Vec\n",
    "from nltk.stem import WordNetLemmatizer, SnowballStemmer"
   ]
  },
  {
   "cell_type": "code",
   "execution_count": 7,
   "metadata": {},
   "outputs": [],
   "source": [
    "#Data\n",
    "data=[{\"tag\": \"welcome\",\n",
    "\"patterns\": [\"Hi\", \"How are you\", \"Is any one to talk?\", \"Hello\", \"hi are you available\"],\n",
    "\"responses\": [\"Hello, thanks for contacting us\", \"Good to see you here\",\" Hi there, how may I assist you?\"]\n",
    "\n",
    "        },\n",
    "{\"tag\": \"goodbye\",\n",
    "\"patterns\": [\"Bye\", \"See you later\", \"Goodbye\", \"I will come back soon\"],\n",
    "\"responses\": [\"See you later, thanks for visiting\", \"have a great day ahead\", \"Wish you Come back again soon.\"]\n",
    "        },\n",
    "\n",
    "{\"tag\": \"thankful\",\n",
    "\"patterns\": [\"Thanks for helping me\", \"Thank your guidance\", \"That's helpful and kind from you\"],\n",
    "\"responses\": [\"Happy to help!\", \"Any time!\", \"My pleasure\", \"It is my duty to help you\"]\n",
    "        },\n",
    "        {\"tag\": \"hoursopening\",\n",
    "\"patterns\": [\"What hours are you open?\", \"Tell your opening time?\", \"When are you open?\", \"Just your timing please\"],\n",
    "\"responses\": [\"We're open every day 8am-7pm\", \"Our office hours are 8am-7pm every day\", \"We open office at 8 am and close at 7 pm\"]\n",
    "        },\n",
    "\n",
    "{\"tag\": \"payments\",\n",
    "\"patterns\": [\"Can I pay using credit card?\", \" Can I pay using Mastercard?\", \" Can I pay using cash only?\" ],\n",
    "\"responses\": [\"We accept VISA, Mastercard and credit card\", \"We accept credit card, debit cards and cash. Please don’t worry\"]\n",
    "        }\n",
    "   ]"
   ]
  },
  {
   "cell_type": "markdown",
   "metadata": {},
   "source": [
    "### Preprocessing"
   ]
  },
  {
   "cell_type": "markdown",
   "metadata": {},
   "source": [
    "def lemmatize_stemming(text):\n",
    "    stemmer = SnowballStemmer(\"english\")\n",
    "    return stemmer.stem(WordNetLemmatizer().lemmatize(text, pos='v'))\n",
    "\n",
    "def preprocess(text):\n",
    "    result=[]\n",
    "    for token in gensim.utils.simple_preprocess(text) :\n",
    "        if token not in gensim.parsing.preprocessing.STOPWORDS and len(token) > 3:\n",
    "            result.append(lemmatize_stemming(token))\n",
    "            \n",
    "    return result"
   ]
  },
  {
   "cell_type": "code",
   "execution_count": 17,
   "metadata": {},
   "outputs": [],
   "source": [
    "preprocessed_data=[]\n",
    "for i in data:\n",
    "    patterns=i['patterns']\n",
    "    for j in patterns:\n",
    "        preprocessed_data.append(preprocess(j))\n",
    "    responses=i['responses']\n",
    "    for j in responses:\n",
    "        preprocessed_data.append(preprocess(j))"
   ]
  },
  {
   "cell_type": "code",
   "execution_count": 18,
   "metadata": {
    "scrolled": true
   },
   "outputs": [
    {
     "data": {
      "text/plain": [
       "[[],\n",
       " [],\n",
       " ['talk'],\n",
       " ['hello'],\n",
       " ['avail'],\n",
       " ['hello', 'thank', 'contact'],\n",
       " ['good'],\n",
       " ['assist'],\n",
       " [],\n",
       " ['later'],\n",
       " ['goodby'],\n",
       " ['come', 'soon'],\n",
       " ['later', 'thank', 'visit'],\n",
       " ['great', 'ahead'],\n",
       " ['wish', 'come', 'soon'],\n",
       " ['thank', 'help'],\n",
       " ['thank', 'guidanc'],\n",
       " ['help', 'kind'],\n",
       " ['happi', 'help'],\n",
       " ['time'],\n",
       " ['pleasur'],\n",
       " ['duti', 'help'],\n",
       " ['hour', 'open'],\n",
       " ['tell', 'open', 'time'],\n",
       " ['open'],\n",
       " ['time'],\n",
       " ['open'],\n",
       " ['offic', 'hour'],\n",
       " ['open', 'offic', 'close'],\n",
       " ['credit', 'card'],\n",
       " ['mastercard'],\n",
       " ['cash'],\n",
       " ['accept', 'visa', 'mastercard', 'credit', 'card'],\n",
       " ['accept', 'credit', 'card', 'debit', 'card', 'cash', 'worri']]"
      ]
     },
     "execution_count": 18,
     "metadata": {},
     "output_type": "execute_result"
    }
   ],
   "source": [
    "preprocessed_data"
   ]
  },
  {
   "cell_type": "markdown",
   "metadata": {},
   "source": [
    "### Using word2vec"
   ]
  },
  {
   "cell_type": "code",
   "execution_count": 19,
   "metadata": {},
   "outputs": [],
   "source": [
    "Model= Word2Vec(preprocessed_data,min_count=1,size=300,workers=4)"
   ]
  },
  {
   "cell_type": "code",
   "execution_count": 20,
   "metadata": {},
   "outputs": [],
   "source": [
    "Model.save(\"word2vec.model\")\n",
    "Model.save(\"model.bin\")"
   ]
  },
  {
   "cell_type": "code",
   "execution_count": 21,
   "metadata": {},
   "outputs": [],
   "source": [
    "model = Word2Vec.load('model.bin')"
   ]
  },
  {
   "cell_type": "code",
   "execution_count": 22,
   "metadata": {},
   "outputs": [],
   "source": [
    " vocab = list(model.wv.vocab)"
   ]
  },
  {
   "cell_type": "code",
   "execution_count": 23,
   "metadata": {
    "scrolled": true
   },
   "outputs": [
    {
     "data": {
      "text/plain": [
       "['talk',\n",
       " 'hello',\n",
       " 'avail',\n",
       " 'thank',\n",
       " 'contact',\n",
       " 'good',\n",
       " 'assist',\n",
       " 'later',\n",
       " 'goodby',\n",
       " 'come',\n",
       " 'soon',\n",
       " 'visit',\n",
       " 'great',\n",
       " 'ahead',\n",
       " 'wish',\n",
       " 'help',\n",
       " 'guidanc',\n",
       " 'kind',\n",
       " 'happi',\n",
       " 'time',\n",
       " 'pleasur',\n",
       " 'duti',\n",
       " 'hour',\n",
       " 'open',\n",
       " 'tell',\n",
       " 'offic',\n",
       " 'close',\n",
       " 'credit',\n",
       " 'card',\n",
       " 'mastercard',\n",
       " 'cash',\n",
       " 'accept',\n",
       " 'visa',\n",
       " 'debit',\n",
       " 'worri']"
      ]
     },
     "execution_count": 23,
     "metadata": {},
     "output_type": "execute_result"
    }
   ],
   "source": [
    "vocab"
   ]
  },
  {
   "cell_type": "markdown",
   "metadata": {},
   "source": [
    "### Finding most similar words"
   ]
  },
  {
   "cell_type": "code",
   "execution_count": 33,
   "metadata": {},
   "outputs": [
    {
     "name": "stdout",
     "output_type": "stream",
     "text": [
      "[('happi', 0.11218877881765366), ('talk', 0.10319676995277405), ('visa', 0.06491489708423615), ('visit', 0.06172134354710579), ('great', 0.06109871715307236), ('soon', 0.061037011444568634), ('hour', 0.06045321375131607), ('tell', 0.055567894130945206), ('kind', 0.05286099389195442), ('guidanc', 0.05013928562402725)]\n"
     ]
    },
    {
     "name": "stderr",
     "output_type": "stream",
     "text": [
      "C:\\Users\\gauravtiwari\\AppData\\Local\\Continuum\\anaconda3\\lib\\site-packages\\ipykernel_launcher.py:1: DeprecationWarning: Call to deprecated `most_similar` (Method will be removed in 4.0.0, use self.wv.most_similar() instead).\n",
      "  \"\"\"Entry point for launching an IPython kernel.\n"
     ]
    }
   ],
   "source": [
    "similar_words = model.most_similar(preprocess('thanks'))\n",
    "print(similar_words)"
   ]
  }
 ],
 "metadata": {
  "kernelspec": {
   "display_name": "Python 3",
   "language": "python",
   "name": "python3"
  },
  "language_info": {
   "codemirror_mode": {
    "name": "ipython",
    "version": 3
   },
   "file_extension": ".py",
   "mimetype": "text/x-python",
   "name": "python",
   "nbconvert_exporter": "python",
   "pygments_lexer": "ipython3",
   "version": "3.7.3"
  }
 },
 "nbformat": 4,
 "nbformat_minor": 2
}
